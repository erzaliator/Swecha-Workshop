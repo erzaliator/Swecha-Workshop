{
 "cells": [
  {
   "cell_type": "code",
   "execution_count": 4,
   "metadata": {},
   "outputs": [
    {
     "name": "stdout",
     "output_type": "stream",
     "text": [
      "Your message is:  Hiya!\n",
      "Your message is:  Welcome everyone!\n",
      "Your message is:  Because I'm Batman\n"
     ]
    }
   ],
   "source": [
    "#some thing to do again adn again\n",
    "def print_message(msg):\n",
    "    print('Your message is: ', msg)\n",
    "print_message('Hiya!')\n",
    "print_message('Welcome everyone!')\n",
    "print_message('Because I\\'m Batman')"
   ]
  },
  {
   "cell_type": "code",
   "execution_count": 3,
   "metadata": {},
   "outputs": [
    {
     "name": "stdout",
     "output_type": "stream",
     "text": [
      "SMALL\n"
     ]
    }
   ],
   "source": [
    "#return type\n",
    "def string_to_caps(string):\n",
    "    string=string.upper()\n",
    "    return string\n",
    "\n",
    "s=string_to_caps('small')\n",
    "print(s)"
   ]
  },
  {
   "cell_type": "code",
   "execution_count": 5,
   "metadata": {},
   "outputs": [
    {
     "name": "stdout",
     "output_type": "stream",
     "text": [
      "Your message is:  SMALL MESSAGE\n"
     ]
    }
   ],
   "source": [
    "#function within function. or. function that 'calls' another function\n",
    "def print_message_in_caps(msg):\n",
    "    print_message(string_to_caps(msg))\n",
    "    \n",
    "print_message_in_caps('small message')"
   ]
  },
  {
   "cell_type": "code",
   "execution_count": 7,
   "metadata": {},
   "outputs": [
    {
     "name": "stdout",
     "output_type": "stream",
     "text": [
      "0\n",
      "1\n",
      "2\n",
      "3\n",
      "4\n"
     ]
    }
   ],
   "source": [
    "#recursion\n",
    "#function that calls itself\n",
    "\n",
    "def range_function(end, i):\n",
    "    if i==end: return\n",
    "    print(i)\n",
    "    range_function(end,i+1)\n",
    "range_function(5,0)"
   ]
  },
  {
   "cell_type": "code",
   "execution_count": 17,
   "metadata": {},
   "outputs": [
    {
     "name": "stdout",
     "output_type": "stream",
     "text": [
      "24\n"
     ]
    },
    {
     "data": {
      "text/plain": [
       "24"
      ]
     },
     "execution_count": 17,
     "metadata": {},
     "output_type": "execute_result"
    }
   ],
   "source": [
    "#factorial\n",
    "\n",
    "n=4\n",
    "prod=1\n",
    "for i in range(n):\n",
    "    prod*=i+1\n",
    "#     print(i+1)\n",
    "print(prod)\n",
    "\n",
    "def factorial(n):\n",
    "    if n==1: return 1\n",
    "    else: return n*factorial(n-1)\n",
    "factorial(4)"
   ]
  },
  {
   "cell_type": "code",
   "execution_count": 20,
   "metadata": {},
   "outputs": [
    {
     "name": "stdout",
     "output_type": "stream",
     "text": [
      "1\n",
      "1\n",
      "2\n",
      "3\n",
      "5\n",
      "8\n",
      "13\n",
      "21\n",
      "34\n",
      "55\n",
      "89\n",
      "144\n",
      "233\n",
      "377\n",
      "610\n",
      "987\n",
      "1597\n",
      "2584\n",
      "4181\n",
      "6765\n",
      "10946\n",
      "17711\n",
      "28657\n",
      "46368\n",
      "75025\n",
      "121393\n",
      "196418\n",
      "317811\n",
      "514229\n",
      "832040\n"
     ]
    }
   ],
   "source": [
    "#fib seq\n",
    "\n",
    "def fib(n):\n",
    "    if n<=1: return 1\n",
    "    return fib(n-1)+fib(n-2)\n",
    "\n",
    "for i in range(30):\n",
    "    print(fib(i))"
   ]
  },
  {
   "cell_type": "code",
   "execution_count": 8,
   "metadata": {},
   "outputs": [
    {
     "name": "stdout",
     "output_type": "stream",
     "text": [
      "prakriti\n"
     ]
    }
   ],
   "source": [
    "def lower_upper(string):\n",
    "    string=string.lower()\n",
    "    return string\n",
    "p=lower_upper('PRAKRITI')\n",
    "print(p)\n"
   ]
  },
  {
   "cell_type": "code",
   "execution_count": 12,
   "metadata": {},
   "outputs": [
    {
     "name": "stdout",
     "output_type": "stream",
     "text": [
      "enter the number6\n",
      "13\n"
     ]
    }
   ],
   "source": [
    "x=input('enter the number')\n",
    "x=int(x)\n",
    "def fibonacci(p):\n",
    "    if(p<=1):\n",
    "         return 1\n",
    "    else:\n",
    "        return(fibonacci(p-1)+fibonacci(p-2))\n",
    "print(fibonacci(x))"
   ]
  },
  {
   "cell_type": "code",
   "execution_count": 15,
   "metadata": {},
   "outputs": [
    {
     "name": "stdout",
     "output_type": "stream",
     "text": [
      "enter the number5\n",
      "120\n"
     ]
    }
   ],
   "source": [
    "x=input('enter the number')\n",
    "x=int(x)\n",
    "def factorial(y):\n",
    "    if(y==1 or y==0):\n",
    "        return 1\n",
    "    else:\n",
    "        return y*factorial(y-1)\n",
    "print(factorial(x))"
   ]
  },
  {
   "cell_type": "code",
   "execution_count": 14,
   "metadata": {},
   "outputs": [
    {
     "name": "stdout",
     "output_type": "stream",
     "text": [
      "21\n"
     ]
    }
   ],
   "source": [
    "def fib(x):\n",
    "    if(x<=1):\n",
    "        return 1\n",
    "    else:\n",
    "        return(fib(x-1)+fib(x-2))\n",
    "print(fib(7))"
   ]
  },
  {
   "cell_type": "code",
   "execution_count": 37,
   "metadata": {},
   "outputs": [
    {
     "name": "stdout",
     "output_type": "stream",
     "text": [
      "s[i]\n"
     ]
    }
   ],
   "source": [
    "def pali(s,i,j):\n",
    "    if i>=j: return 1\n",
    "    if s[i]!=s[j]: return 0\n",
    "    return pali(s,i+1,j-1)\n",
    "    \n",
    "sample='maddam'\n",
    "pali(sample,0, len(sample)-1)\n",
    "print (pali"
   ]
  },
  {
   "cell_type": "code",
   "execution_count": 40,
   "metadata": {},
   "outputs": [
    {
     "data": {
      "text/plain": [
       "'madam'"
      ]
     },
     "execution_count": 40,
     "metadata": {},
     "output_type": "execute_result"
    }
   ],
   "source": [
    "sample"
   ]
  },
  {
   "cell_type": "code",
   "execution_count": null,
   "metadata": {},
   "outputs": [],
   "source": []
  }
 ],
 "metadata": {
  "kernelspec": {
   "display_name": "Python 3",
   "language": "python",
   "name": "python3"
  },
  "language_info": {
   "codemirror_mode": {
    "name": "ipython",
    "version": 3
   },
   "file_extension": ".py",
   "mimetype": "text/x-python",
   "name": "python",
   "nbconvert_exporter": "python",
   "pygments_lexer": "ipython3",
   "version": "3.5.2"
  }
 },
 "nbformat": 4,
 "nbformat_minor": 2
}
